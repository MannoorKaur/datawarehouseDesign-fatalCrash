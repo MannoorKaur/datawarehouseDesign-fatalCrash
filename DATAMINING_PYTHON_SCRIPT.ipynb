{
  "nbformat": 4,
  "nbformat_minor": 0,
  "metadata": {
    "colab": {
      "provenance": []
    },
    "kernelspec": {
      "name": "python3",
      "display_name": "Python 3"
    },
    "language_info": {
      "name": "python"
    }
  },
  "cells": [
    {
      "cell_type": "markdown",
      "source": [
        "# Association Rule Mining on Australian Road Fatality Data\n",
        "\n",
        "This notebook explores patterns in fatal road crashes using association rule mining. By applying the Apriori algorithm to real-world data, we find key patterns across road user types, age groups, speed zones, times of day, and states. The goal is to uncover rules that could help inform targeted road safety policies.\n"
      ],
      "metadata": {
        "id": "IXddZ2qfdseJ"
      }
    },
    {
      "cell_type": "code",
      "execution_count": 36,
      "metadata": {
        "colab": {
          "base_uri": "https://localhost:8080/",
          "height": 0
        },
        "id": "QbRDjMZMWzEg",
        "outputId": "8463cd19-f5af-4a0e-ab60-687c95eb86cc"
      },
      "outputs": [
        {
          "output_type": "stream",
          "name": "stdout",
          "text": [
            "Requirement already satisfied: mlxtend in /usr/local/lib/python3.11/dist-packages (0.23.4)\n",
            "Requirement already satisfied: scipy>=1.2.1 in /usr/local/lib/python3.11/dist-packages (from mlxtend) (1.14.1)\n",
            "Requirement already satisfied: numpy>=1.16.2 in /usr/local/lib/python3.11/dist-packages (from mlxtend) (2.0.2)\n",
            "Requirement already satisfied: pandas>=0.24.2 in /usr/local/lib/python3.11/dist-packages (from mlxtend) (2.2.2)\n",
            "Requirement already satisfied: scikit-learn>=1.3.1 in /usr/local/lib/python3.11/dist-packages (from mlxtend) (1.6.1)\n",
            "Requirement already satisfied: matplotlib>=3.0.0 in /usr/local/lib/python3.11/dist-packages (from mlxtend) (3.10.0)\n",
            "Requirement already satisfied: joblib>=0.13.2 in /usr/local/lib/python3.11/dist-packages (from mlxtend) (1.4.2)\n",
            "Requirement already satisfied: contourpy>=1.0.1 in /usr/local/lib/python3.11/dist-packages (from matplotlib>=3.0.0->mlxtend) (1.3.1)\n",
            "Requirement already satisfied: cycler>=0.10 in /usr/local/lib/python3.11/dist-packages (from matplotlib>=3.0.0->mlxtend) (0.12.1)\n",
            "Requirement already satisfied: fonttools>=4.22.0 in /usr/local/lib/python3.11/dist-packages (from matplotlib>=3.0.0->mlxtend) (4.57.0)\n",
            "Requirement already satisfied: kiwisolver>=1.3.1 in /usr/local/lib/python3.11/dist-packages (from matplotlib>=3.0.0->mlxtend) (1.4.8)\n",
            "Requirement already satisfied: packaging>=20.0 in /usr/local/lib/python3.11/dist-packages (from matplotlib>=3.0.0->mlxtend) (24.2)\n",
            "Requirement already satisfied: pillow>=8 in /usr/local/lib/python3.11/dist-packages (from matplotlib>=3.0.0->mlxtend) (11.1.0)\n",
            "Requirement already satisfied: pyparsing>=2.3.1 in /usr/local/lib/python3.11/dist-packages (from matplotlib>=3.0.0->mlxtend) (3.2.3)\n",
            "Requirement already satisfied: python-dateutil>=2.7 in /usr/local/lib/python3.11/dist-packages (from matplotlib>=3.0.0->mlxtend) (2.8.2)\n",
            "Requirement already satisfied: pytz>=2020.1 in /usr/local/lib/python3.11/dist-packages (from pandas>=0.24.2->mlxtend) (2025.2)\n",
            "Requirement already satisfied: tzdata>=2022.7 in /usr/local/lib/python3.11/dist-packages (from pandas>=0.24.2->mlxtend) (2025.2)\n",
            "Requirement already satisfied: threadpoolctl>=3.1.0 in /usr/local/lib/python3.11/dist-packages (from scikit-learn>=1.3.1->mlxtend) (3.6.0)\n",
            "Requirement already satisfied: six>=1.5 in /usr/local/lib/python3.11/dist-packages (from python-dateutil>=2.7->matplotlib>=3.0.0->mlxtend) (1.17.0)\n"
          ]
        }
      ],
      "source": [
        "#  Install necessary libraries\n",
        "!pip install mlxtend\n",
        "\n",
        "# Import libraries\n",
        "import pandas as pd\n",
        "import numpy as np\n",
        "import mlxtend\n",
        "from mlxtend.preprocessing import TransactionEncoder\n",
        "from mlxtend.frequent_patterns import apriori\n",
        "from mlxtend.frequent_patterns import association_rules\n",
        "import os\n",
        "import matplotlib.pyplot as plt\n",
        "import seaborn as sns\n"
      ]
    },
    {
      "cell_type": "code",
      "source": [
        "#uploading files\n",
        "from google.colab import files\n",
        "uploaded = files.upload()"
      ],
      "metadata": {
        "colab": {
          "base_uri": "https://localhost:8080/",
          "height": 74
        },
        "id": "WwnI9MRUYxiQ",
        "outputId": "50aa2ac6-e0ce-4778-8dca-2b3322b197a3"
      },
      "execution_count": 2,
      "outputs": [
        {
          "output_type": "display_data",
          "data": {
            "text/plain": [
              "<IPython.core.display.HTML object>"
            ],
            "text/html": [
              "\n",
              "     <input type=\"file\" id=\"files-605b9992-0cdd-45cc-8820-62238c9a9f2c\" name=\"files[]\" multiple disabled\n",
              "        style=\"border:none\" />\n",
              "     <output id=\"result-605b9992-0cdd-45cc-8820-62238c9a9f2c\">\n",
              "      Upload widget is only available when the cell has been executed in the\n",
              "      current browser session. Please rerun this cell to enable.\n",
              "      </output>\n",
              "      <script>// Copyright 2017 Google LLC\n",
              "//\n",
              "// Licensed under the Apache License, Version 2.0 (the \"License\");\n",
              "// you may not use this file except in compliance with the License.\n",
              "// You may obtain a copy of the License at\n",
              "//\n",
              "//      http://www.apache.org/licenses/LICENSE-2.0\n",
              "//\n",
              "// Unless required by applicable law or agreed to in writing, software\n",
              "// distributed under the License is distributed on an \"AS IS\" BASIS,\n",
              "// WITHOUT WARRANTIES OR CONDITIONS OF ANY KIND, either express or implied.\n",
              "// See the License for the specific language governing permissions and\n",
              "// limitations under the License.\n",
              "\n",
              "/**\n",
              " * @fileoverview Helpers for google.colab Python module.\n",
              " */\n",
              "(function(scope) {\n",
              "function span(text, styleAttributes = {}) {\n",
              "  const element = document.createElement('span');\n",
              "  element.textContent = text;\n",
              "  for (const key of Object.keys(styleAttributes)) {\n",
              "    element.style[key] = styleAttributes[key];\n",
              "  }\n",
              "  return element;\n",
              "}\n",
              "\n",
              "// Max number of bytes which will be uploaded at a time.\n",
              "const MAX_PAYLOAD_SIZE = 100 * 1024;\n",
              "\n",
              "function _uploadFiles(inputId, outputId) {\n",
              "  const steps = uploadFilesStep(inputId, outputId);\n",
              "  const outputElement = document.getElementById(outputId);\n",
              "  // Cache steps on the outputElement to make it available for the next call\n",
              "  // to uploadFilesContinue from Python.\n",
              "  outputElement.steps = steps;\n",
              "\n",
              "  return _uploadFilesContinue(outputId);\n",
              "}\n",
              "\n",
              "// This is roughly an async generator (not supported in the browser yet),\n",
              "// where there are multiple asynchronous steps and the Python side is going\n",
              "// to poll for completion of each step.\n",
              "// This uses a Promise to block the python side on completion of each step,\n",
              "// then passes the result of the previous step as the input to the next step.\n",
              "function _uploadFilesContinue(outputId) {\n",
              "  const outputElement = document.getElementById(outputId);\n",
              "  const steps = outputElement.steps;\n",
              "\n",
              "  const next = steps.next(outputElement.lastPromiseValue);\n",
              "  return Promise.resolve(next.value.promise).then((value) => {\n",
              "    // Cache the last promise value to make it available to the next\n",
              "    // step of the generator.\n",
              "    outputElement.lastPromiseValue = value;\n",
              "    return next.value.response;\n",
              "  });\n",
              "}\n",
              "\n",
              "/**\n",
              " * Generator function which is called between each async step of the upload\n",
              " * process.\n",
              " * @param {string} inputId Element ID of the input file picker element.\n",
              " * @param {string} outputId Element ID of the output display.\n",
              " * @return {!Iterable<!Object>} Iterable of next steps.\n",
              " */\n",
              "function* uploadFilesStep(inputId, outputId) {\n",
              "  const inputElement = document.getElementById(inputId);\n",
              "  inputElement.disabled = false;\n",
              "\n",
              "  const outputElement = document.getElementById(outputId);\n",
              "  outputElement.innerHTML = '';\n",
              "\n",
              "  const pickedPromise = new Promise((resolve) => {\n",
              "    inputElement.addEventListener('change', (e) => {\n",
              "      resolve(e.target.files);\n",
              "    });\n",
              "  });\n",
              "\n",
              "  const cancel = document.createElement('button');\n",
              "  inputElement.parentElement.appendChild(cancel);\n",
              "  cancel.textContent = 'Cancel upload';\n",
              "  const cancelPromise = new Promise((resolve) => {\n",
              "    cancel.onclick = () => {\n",
              "      resolve(null);\n",
              "    };\n",
              "  });\n",
              "\n",
              "  // Wait for the user to pick the files.\n",
              "  const files = yield {\n",
              "    promise: Promise.race([pickedPromise, cancelPromise]),\n",
              "    response: {\n",
              "      action: 'starting',\n",
              "    }\n",
              "  };\n",
              "\n",
              "  cancel.remove();\n",
              "\n",
              "  // Disable the input element since further picks are not allowed.\n",
              "  inputElement.disabled = true;\n",
              "\n",
              "  if (!files) {\n",
              "    return {\n",
              "      response: {\n",
              "        action: 'complete',\n",
              "      }\n",
              "    };\n",
              "  }\n",
              "\n",
              "  for (const file of files) {\n",
              "    const li = document.createElement('li');\n",
              "    li.append(span(file.name, {fontWeight: 'bold'}));\n",
              "    li.append(span(\n",
              "        `(${file.type || 'n/a'}) - ${file.size} bytes, ` +\n",
              "        `last modified: ${\n",
              "            file.lastModifiedDate ? file.lastModifiedDate.toLocaleDateString() :\n",
              "                                    'n/a'} - `));\n",
              "    const percent = span('0% done');\n",
              "    li.appendChild(percent);\n",
              "\n",
              "    outputElement.appendChild(li);\n",
              "\n",
              "    const fileDataPromise = new Promise((resolve) => {\n",
              "      const reader = new FileReader();\n",
              "      reader.onload = (e) => {\n",
              "        resolve(e.target.result);\n",
              "      };\n",
              "      reader.readAsArrayBuffer(file);\n",
              "    });\n",
              "    // Wait for the data to be ready.\n",
              "    let fileData = yield {\n",
              "      promise: fileDataPromise,\n",
              "      response: {\n",
              "        action: 'continue',\n",
              "      }\n",
              "    };\n",
              "\n",
              "    // Use a chunked sending to avoid message size limits. See b/62115660.\n",
              "    let position = 0;\n",
              "    do {\n",
              "      const length = Math.min(fileData.byteLength - position, MAX_PAYLOAD_SIZE);\n",
              "      const chunk = new Uint8Array(fileData, position, length);\n",
              "      position += length;\n",
              "\n",
              "      const base64 = btoa(String.fromCharCode.apply(null, chunk));\n",
              "      yield {\n",
              "        response: {\n",
              "          action: 'append',\n",
              "          file: file.name,\n",
              "          data: base64,\n",
              "        },\n",
              "      };\n",
              "\n",
              "      let percentDone = fileData.byteLength === 0 ?\n",
              "          100 :\n",
              "          Math.round((position / fileData.byteLength) * 100);\n",
              "      percent.textContent = `${percentDone}% done`;\n",
              "\n",
              "    } while (position < fileData.byteLength);\n",
              "  }\n",
              "\n",
              "  // All done.\n",
              "  yield {\n",
              "    response: {\n",
              "      action: 'complete',\n",
              "    }\n",
              "  };\n",
              "}\n",
              "\n",
              "scope.google = scope.google || {};\n",
              "scope.google.colab = scope.google.colab || {};\n",
              "scope.google.colab._files = {\n",
              "  _uploadFiles,\n",
              "  _uploadFilesContinue,\n",
              "};\n",
              "})(self);\n",
              "</script> "
            ]
          },
          "metadata": {}
        },
        {
          "output_type": "stream",
          "name": "stdout",
          "text": [
            "Saving joined_data.csv to joined_data.csv\n"
          ]
        }
      ]
    },
    {
      "cell_type": "markdown",
      "source": [
        "##  Explore the Dataset\n",
        "\n",
        "We inspect the dataset to understand column names, data types, and missing values. Some columns are dropped due to high missing rates (>80%).\n"
      ],
      "metadata": {
        "id": "7hctPf0rd5jn"
      }
    },
    {
      "cell_type": "code",
      "source": [
        "#Read the csv file\n",
        "df = pd.read_csv('joined_data.csv')\n",
        "\n",
        "#print the df\n",
        "print(df)"
      ],
      "metadata": {
        "colab": {
          "base_uri": "https://localhost:8080/",
          "height": 0
        },
        "id": "WcEak3d9Y8ZB",
        "outputId": "532cf7f9-0600-4337-92f4-5078e942f565"
      },
      "execution_count": 18,
      "outputs": [
        {
          "output_type": "stream",
          "name": "stdout",
          "text": [
            "       FactFatalityID  Crash ID  Road User  Gender  Age Age Group Time of day  \\\n",
            "0                   1  20241115     Driver    Male   74  65_to_74       Night   \n",
            "1                   2  20241125     Driver  Female   19  17_to_25         Day   \n",
            "2                   3  20246013     Driver  Female   33  26_to_39         Day   \n",
            "3                   4  20241002     Driver  Female   32  26_to_39         Day   \n",
            "4                   5  20242261  Passenger    Male   62  40_to_64         Day   \n",
            "...               ...       ...        ...     ...  ...       ...         ...   \n",
            "56869           56870  19896006  Passenger  Female   13   0_to_16       Night   \n",
            "56870           56871  19896006  Passenger    Male   13   0_to_16       Night   \n",
            "56871           56872  19896006     Driver    Male   18  17_to_25       Night   \n",
            "56872           56873  19896006  Passenger  Female   14   0_to_16       Night   \n",
            "56873           56874  19895133     Driver    Male   70  65_to_74       Night   \n",
            "\n",
            "      State_crash  Month_crash  Year_crash  ...  \\\n",
            "0             NSW           12        2024  ...   \n",
            "1             NSW           12        2024  ...   \n",
            "2             Tas           12        2024  ...   \n",
            "3             NSW           12        2024  ...   \n",
            "4             Vic           12        2024  ...   \n",
            "...           ...          ...         ...  ...   \n",
            "56869         Tas            1        1989  ...   \n",
            "56870         Tas            1        1989  ...   \n",
            "56871         Tas            1        1989  ...   \n",
            "56872         Tas            1        1989  ...   \n",
            "56873          WA            1        1989  ...   \n",
            "\n",
            "      Articulated Truck Involvement_crash Speed Limit_crash  \\\n",
            "0                                      No               100   \n",
            "1                                      No                80   \n",
            "2                                      No                50   \n",
            "3                                      No               100   \n",
            "4                                 Missing                 0   \n",
            "...                                   ...               ...   \n",
            "56869                                 Yes               100   \n",
            "56870                                 Yes               100   \n",
            "56871                                 Yes               100   \n",
            "56872                                 Yes               100   \n",
            "56873                                  No                 0   \n",
            "\n",
            "      National Remoteness Areas_crash                     SA4 Name 2021_crash  \\\n",
            "0            Inner Regional Australia                                Riverina   \n",
            "1            Inner Regional Australia  Sydney - Baulkham Hills and Hawkesbury   \n",
            "2            Inner Regional Australia               Launceston and North East   \n",
            "3            Outer Regional Australia              New England and North West   \n",
            "4                             Missing                                 Missing   \n",
            "...                               ...                                     ...   \n",
            "56869                         Missing                                 Missing   \n",
            "56870                         Missing                                 Missing   \n",
            "56871                         Missing                                 Missing   \n",
            "56872                         Missing                                 Missing   \n",
            "56873                         Missing                                 Missing   \n",
            "\n",
            "      National LGA Name 2021_crash   National Road Type_crash  \\\n",
            "0                      Wagga Wagga              Arterial Road   \n",
            "1                       Hawkesbury                 Local Road   \n",
            "2                Northern Midlands                 Local Road   \n",
            "3                Armidale Regional  National or State Highway   \n",
            "4                          Missing                    Missing   \n",
            "...                            ...                        ...   \n",
            "56869                      Missing                    Missing   \n",
            "56870                      Missing                    Missing   \n",
            "56871                      Missing                    Missing   \n",
            "56872                      Missing                    Missing   \n",
            "56873                      Missing                    Missing   \n",
            "\n",
            "      Christmas Period_crash  Easter Period_crash Day of week_crash  \\\n",
            "0                        Yes                   No           Weekday   \n",
            "1                         No                   No           Weekday   \n",
            "2                        Yes                   No           Weekday   \n",
            "3                         No                   No           Weekday   \n",
            "4                         No                   No           Weekday   \n",
            "...                      ...                  ...               ...   \n",
            "56869                     No                   No           Weekday   \n",
            "56870                     No                   No           Weekday   \n",
            "56871                     No                   No           Weekday   \n",
            "56872                     No                   No           Weekday   \n",
            "56873                     No                   No           Weekday   \n",
            "\n",
            "      Time of Day  \n",
            "0           Night  \n",
            "1             Day  \n",
            "2             Day  \n",
            "3             Day  \n",
            "4             Day  \n",
            "...           ...  \n",
            "56869       Night  \n",
            "56870       Night  \n",
            "56871       Night  \n",
            "56872       Night  \n",
            "56873       Night  \n",
            "\n",
            "[56874 rows x 26 columns]\n"
          ]
        }
      ]
    },
    {
      "cell_type": "code",
      "source": [
        "#Show the data head\n",
        "df.head()\n"
      ],
      "metadata": {
        "colab": {
          "base_uri": "https://localhost:8080/",
          "height": 429
        },
        "id": "agzEjYfzZI63",
        "outputId": "ab98ee46-5d27-4a76-d91e-d478ee9755b8"
      },
      "execution_count": 19,
      "outputs": [
        {
          "output_type": "execute_result",
          "data": {
            "text/plain": [
              "   FactFatalityID  Crash ID  Road User  Gender  Age Age Group Time of day  \\\n",
              "0               1  20241115     Driver    Male   74  65_to_74       Night   \n",
              "1               2  20241125     Driver  Female   19  17_to_25         Day   \n",
              "2               3  20246013     Driver  Female   33  26_to_39         Day   \n",
              "3               4  20241002     Driver  Female   32  26_to_39         Day   \n",
              "4               5  20242261  Passenger    Male   62  40_to_64         Day   \n",
              "\n",
              "  State_crash  Month_crash  Year_crash  ...  \\\n",
              "0         NSW           12        2024  ...   \n",
              "1         NSW           12        2024  ...   \n",
              "2         Tas           12        2024  ...   \n",
              "3         NSW           12        2024  ...   \n",
              "4         Vic           12        2024  ...   \n",
              "\n",
              "  Articulated Truck Involvement_crash Speed Limit_crash  \\\n",
              "0                                  No               100   \n",
              "1                                  No                80   \n",
              "2                                  No                50   \n",
              "3                                  No               100   \n",
              "4                             Missing                 0   \n",
              "\n",
              "  National Remoteness Areas_crash                     SA4 Name 2021_crash  \\\n",
              "0        Inner Regional Australia                                Riverina   \n",
              "1        Inner Regional Australia  Sydney - Baulkham Hills and Hawkesbury   \n",
              "2        Inner Regional Australia               Launceston and North East   \n",
              "3        Outer Regional Australia              New England and North West   \n",
              "4                         Missing                                 Missing   \n",
              "\n",
              "  National LGA Name 2021_crash   National Road Type_crash  \\\n",
              "0                  Wagga Wagga              Arterial Road   \n",
              "1                   Hawkesbury                 Local Road   \n",
              "2            Northern Midlands                 Local Road   \n",
              "3            Armidale Regional  National or State Highway   \n",
              "4                      Missing                    Missing   \n",
              "\n",
              "  Christmas Period_crash  Easter Period_crash Day of week_crash Time of Day  \n",
              "0                    Yes                   No           Weekday       Night  \n",
              "1                     No                   No           Weekday         Day  \n",
              "2                    Yes                   No           Weekday         Day  \n",
              "3                     No                   No           Weekday         Day  \n",
              "4                     No                   No           Weekday         Day  \n",
              "\n",
              "[5 rows x 26 columns]"
            ],
            "text/html": [
              "\n",
              "  <div id=\"df-dda38f65-c970-44ba-b755-eed09fcf9de6\" class=\"colab-df-container\">\n",
              "    <div>\n",
              "<style scoped>\n",
              "    .dataframe tbody tr th:only-of-type {\n",
              "        vertical-align: middle;\n",
              "    }\n",
              "\n",
              "    .dataframe tbody tr th {\n",
              "        vertical-align: top;\n",
              "    }\n",
              "\n",
              "    .dataframe thead th {\n",
              "        text-align: right;\n",
              "    }\n",
              "</style>\n",
              "<table border=\"1\" class=\"dataframe\">\n",
              "  <thead>\n",
              "    <tr style=\"text-align: right;\">\n",
              "      <th></th>\n",
              "      <th>FactFatalityID</th>\n",
              "      <th>Crash ID</th>\n",
              "      <th>Road User</th>\n",
              "      <th>Gender</th>\n",
              "      <th>Age</th>\n",
              "      <th>Age Group</th>\n",
              "      <th>Time of day</th>\n",
              "      <th>State_crash</th>\n",
              "      <th>Month_crash</th>\n",
              "      <th>Year_crash</th>\n",
              "      <th>...</th>\n",
              "      <th>Articulated Truck Involvement_crash</th>\n",
              "      <th>Speed Limit_crash</th>\n",
              "      <th>National Remoteness Areas_crash</th>\n",
              "      <th>SA4 Name 2021_crash</th>\n",
              "      <th>National LGA Name 2021_crash</th>\n",
              "      <th>National Road Type_crash</th>\n",
              "      <th>Christmas Period_crash</th>\n",
              "      <th>Easter Period_crash</th>\n",
              "      <th>Day of week_crash</th>\n",
              "      <th>Time of Day</th>\n",
              "    </tr>\n",
              "  </thead>\n",
              "  <tbody>\n",
              "    <tr>\n",
              "      <th>0</th>\n",
              "      <td>1</td>\n",
              "      <td>20241115</td>\n",
              "      <td>Driver</td>\n",
              "      <td>Male</td>\n",
              "      <td>74</td>\n",
              "      <td>65_to_74</td>\n",
              "      <td>Night</td>\n",
              "      <td>NSW</td>\n",
              "      <td>12</td>\n",
              "      <td>2024</td>\n",
              "      <td>...</td>\n",
              "      <td>No</td>\n",
              "      <td>100</td>\n",
              "      <td>Inner Regional Australia</td>\n",
              "      <td>Riverina</td>\n",
              "      <td>Wagga Wagga</td>\n",
              "      <td>Arterial Road</td>\n",
              "      <td>Yes</td>\n",
              "      <td>No</td>\n",
              "      <td>Weekday</td>\n",
              "      <td>Night</td>\n",
              "    </tr>\n",
              "    <tr>\n",
              "      <th>1</th>\n",
              "      <td>2</td>\n",
              "      <td>20241125</td>\n",
              "      <td>Driver</td>\n",
              "      <td>Female</td>\n",
              "      <td>19</td>\n",
              "      <td>17_to_25</td>\n",
              "      <td>Day</td>\n",
              "      <td>NSW</td>\n",
              "      <td>12</td>\n",
              "      <td>2024</td>\n",
              "      <td>...</td>\n",
              "      <td>No</td>\n",
              "      <td>80</td>\n",
              "      <td>Inner Regional Australia</td>\n",
              "      <td>Sydney - Baulkham Hills and Hawkesbury</td>\n",
              "      <td>Hawkesbury</td>\n",
              "      <td>Local Road</td>\n",
              "      <td>No</td>\n",
              "      <td>No</td>\n",
              "      <td>Weekday</td>\n",
              "      <td>Day</td>\n",
              "    </tr>\n",
              "    <tr>\n",
              "      <th>2</th>\n",
              "      <td>3</td>\n",
              "      <td>20246013</td>\n",
              "      <td>Driver</td>\n",
              "      <td>Female</td>\n",
              "      <td>33</td>\n",
              "      <td>26_to_39</td>\n",
              "      <td>Day</td>\n",
              "      <td>Tas</td>\n",
              "      <td>12</td>\n",
              "      <td>2024</td>\n",
              "      <td>...</td>\n",
              "      <td>No</td>\n",
              "      <td>50</td>\n",
              "      <td>Inner Regional Australia</td>\n",
              "      <td>Launceston and North East</td>\n",
              "      <td>Northern Midlands</td>\n",
              "      <td>Local Road</td>\n",
              "      <td>Yes</td>\n",
              "      <td>No</td>\n",
              "      <td>Weekday</td>\n",
              "      <td>Day</td>\n",
              "    </tr>\n",
              "    <tr>\n",
              "      <th>3</th>\n",
              "      <td>4</td>\n",
              "      <td>20241002</td>\n",
              "      <td>Driver</td>\n",
              "      <td>Female</td>\n",
              "      <td>32</td>\n",
              "      <td>26_to_39</td>\n",
              "      <td>Day</td>\n",
              "      <td>NSW</td>\n",
              "      <td>12</td>\n",
              "      <td>2024</td>\n",
              "      <td>...</td>\n",
              "      <td>No</td>\n",
              "      <td>100</td>\n",
              "      <td>Outer Regional Australia</td>\n",
              "      <td>New England and North West</td>\n",
              "      <td>Armidale Regional</td>\n",
              "      <td>National or State Highway</td>\n",
              "      <td>No</td>\n",
              "      <td>No</td>\n",
              "      <td>Weekday</td>\n",
              "      <td>Day</td>\n",
              "    </tr>\n",
              "    <tr>\n",
              "      <th>4</th>\n",
              "      <td>5</td>\n",
              "      <td>20242261</td>\n",
              "      <td>Passenger</td>\n",
              "      <td>Male</td>\n",
              "      <td>62</td>\n",
              "      <td>40_to_64</td>\n",
              "      <td>Day</td>\n",
              "      <td>Vic</td>\n",
              "      <td>12</td>\n",
              "      <td>2024</td>\n",
              "      <td>...</td>\n",
              "      <td>Missing</td>\n",
              "      <td>0</td>\n",
              "      <td>Missing</td>\n",
              "      <td>Missing</td>\n",
              "      <td>Missing</td>\n",
              "      <td>Missing</td>\n",
              "      <td>No</td>\n",
              "      <td>No</td>\n",
              "      <td>Weekday</td>\n",
              "      <td>Day</td>\n",
              "    </tr>\n",
              "  </tbody>\n",
              "</table>\n",
              "<p>5 rows × 26 columns</p>\n",
              "</div>\n",
              "    <div class=\"colab-df-buttons\">\n",
              "\n",
              "  <div class=\"colab-df-container\">\n",
              "    <button class=\"colab-df-convert\" onclick=\"convertToInteractive('df-dda38f65-c970-44ba-b755-eed09fcf9de6')\"\n",
              "            title=\"Convert this dataframe to an interactive table.\"\n",
              "            style=\"display:none;\">\n",
              "\n",
              "  <svg xmlns=\"http://www.w3.org/2000/svg\" height=\"24px\" viewBox=\"0 -960 960 960\">\n",
              "    <path d=\"M120-120v-720h720v720H120Zm60-500h600v-160H180v160Zm220 220h160v-160H400v160Zm0 220h160v-160H400v160ZM180-400h160v-160H180v160Zm440 0h160v-160H620v160ZM180-180h160v-160H180v160Zm440 0h160v-160H620v160Z\"/>\n",
              "  </svg>\n",
              "    </button>\n",
              "\n",
              "  <style>\n",
              "    .colab-df-container {\n",
              "      display:flex;\n",
              "      gap: 12px;\n",
              "    }\n",
              "\n",
              "    .colab-df-convert {\n",
              "      background-color: #E8F0FE;\n",
              "      border: none;\n",
              "      border-radius: 50%;\n",
              "      cursor: pointer;\n",
              "      display: none;\n",
              "      fill: #1967D2;\n",
              "      height: 32px;\n",
              "      padding: 0 0 0 0;\n",
              "      width: 32px;\n",
              "    }\n",
              "\n",
              "    .colab-df-convert:hover {\n",
              "      background-color: #E2EBFA;\n",
              "      box-shadow: 0px 1px 2px rgba(60, 64, 67, 0.3), 0px 1px 3px 1px rgba(60, 64, 67, 0.15);\n",
              "      fill: #174EA6;\n",
              "    }\n",
              "\n",
              "    .colab-df-buttons div {\n",
              "      margin-bottom: 4px;\n",
              "    }\n",
              "\n",
              "    [theme=dark] .colab-df-convert {\n",
              "      background-color: #3B4455;\n",
              "      fill: #D2E3FC;\n",
              "    }\n",
              "\n",
              "    [theme=dark] .colab-df-convert:hover {\n",
              "      background-color: #434B5C;\n",
              "      box-shadow: 0px 1px 3px 1px rgba(0, 0, 0, 0.15);\n",
              "      filter: drop-shadow(0px 1px 2px rgba(0, 0, 0, 0.3));\n",
              "      fill: #FFFFFF;\n",
              "    }\n",
              "  </style>\n",
              "\n",
              "    <script>\n",
              "      const buttonEl =\n",
              "        document.querySelector('#df-dda38f65-c970-44ba-b755-eed09fcf9de6 button.colab-df-convert');\n",
              "      buttonEl.style.display =\n",
              "        google.colab.kernel.accessAllowed ? 'block' : 'none';\n",
              "\n",
              "      async function convertToInteractive(key) {\n",
              "        const element = document.querySelector('#df-dda38f65-c970-44ba-b755-eed09fcf9de6');\n",
              "        const dataTable =\n",
              "          await google.colab.kernel.invokeFunction('convertToInteractive',\n",
              "                                                    [key], {});\n",
              "        if (!dataTable) return;\n",
              "\n",
              "        const docLinkHtml = 'Like what you see? Visit the ' +\n",
              "          '<a target=\"_blank\" href=https://colab.research.google.com/notebooks/data_table.ipynb>data table notebook</a>'\n",
              "          + ' to learn more about interactive tables.';\n",
              "        element.innerHTML = '';\n",
              "        dataTable['output_type'] = 'display_data';\n",
              "        await google.colab.output.renderOutput(dataTable, element);\n",
              "        const docLink = document.createElement('div');\n",
              "        docLink.innerHTML = docLinkHtml;\n",
              "        element.appendChild(docLink);\n",
              "      }\n",
              "    </script>\n",
              "  </div>\n",
              "\n",
              "\n",
              "<div id=\"df-b1c22dbf-dc92-49a6-9506-7162f2b9c403\">\n",
              "  <button class=\"colab-df-quickchart\" onclick=\"quickchart('df-b1c22dbf-dc92-49a6-9506-7162f2b9c403')\"\n",
              "            title=\"Suggest charts\"\n",
              "            style=\"display:none;\">\n",
              "\n",
              "<svg xmlns=\"http://www.w3.org/2000/svg\" height=\"24px\"viewBox=\"0 0 24 24\"\n",
              "     width=\"24px\">\n",
              "    <g>\n",
              "        <path d=\"M19 3H5c-1.1 0-2 .9-2 2v14c0 1.1.9 2 2 2h14c1.1 0 2-.9 2-2V5c0-1.1-.9-2-2-2zM9 17H7v-7h2v7zm4 0h-2V7h2v10zm4 0h-2v-4h2v4z\"/>\n",
              "    </g>\n",
              "</svg>\n",
              "  </button>\n",
              "\n",
              "<style>\n",
              "  .colab-df-quickchart {\n",
              "      --bg-color: #E8F0FE;\n",
              "      --fill-color: #1967D2;\n",
              "      --hover-bg-color: #E2EBFA;\n",
              "      --hover-fill-color: #174EA6;\n",
              "      --disabled-fill-color: #AAA;\n",
              "      --disabled-bg-color: #DDD;\n",
              "  }\n",
              "\n",
              "  [theme=dark] .colab-df-quickchart {\n",
              "      --bg-color: #3B4455;\n",
              "      --fill-color: #D2E3FC;\n",
              "      --hover-bg-color: #434B5C;\n",
              "      --hover-fill-color: #FFFFFF;\n",
              "      --disabled-bg-color: #3B4455;\n",
              "      --disabled-fill-color: #666;\n",
              "  }\n",
              "\n",
              "  .colab-df-quickchart {\n",
              "    background-color: var(--bg-color);\n",
              "    border: none;\n",
              "    border-radius: 50%;\n",
              "    cursor: pointer;\n",
              "    display: none;\n",
              "    fill: var(--fill-color);\n",
              "    height: 32px;\n",
              "    padding: 0;\n",
              "    width: 32px;\n",
              "  }\n",
              "\n",
              "  .colab-df-quickchart:hover {\n",
              "    background-color: var(--hover-bg-color);\n",
              "    box-shadow: 0 1px 2px rgba(60, 64, 67, 0.3), 0 1px 3px 1px rgba(60, 64, 67, 0.15);\n",
              "    fill: var(--button-hover-fill-color);\n",
              "  }\n",
              "\n",
              "  .colab-df-quickchart-complete:disabled,\n",
              "  .colab-df-quickchart-complete:disabled:hover {\n",
              "    background-color: var(--disabled-bg-color);\n",
              "    fill: var(--disabled-fill-color);\n",
              "    box-shadow: none;\n",
              "  }\n",
              "\n",
              "  .colab-df-spinner {\n",
              "    border: 2px solid var(--fill-color);\n",
              "    border-color: transparent;\n",
              "    border-bottom-color: var(--fill-color);\n",
              "    animation:\n",
              "      spin 1s steps(1) infinite;\n",
              "  }\n",
              "\n",
              "  @keyframes spin {\n",
              "    0% {\n",
              "      border-color: transparent;\n",
              "      border-bottom-color: var(--fill-color);\n",
              "      border-left-color: var(--fill-color);\n",
              "    }\n",
              "    20% {\n",
              "      border-color: transparent;\n",
              "      border-left-color: var(--fill-color);\n",
              "      border-top-color: var(--fill-color);\n",
              "    }\n",
              "    30% {\n",
              "      border-color: transparent;\n",
              "      border-left-color: var(--fill-color);\n",
              "      border-top-color: var(--fill-color);\n",
              "      border-right-color: var(--fill-color);\n",
              "    }\n",
              "    40% {\n",
              "      border-color: transparent;\n",
              "      border-right-color: var(--fill-color);\n",
              "      border-top-color: var(--fill-color);\n",
              "    }\n",
              "    60% {\n",
              "      border-color: transparent;\n",
              "      border-right-color: var(--fill-color);\n",
              "    }\n",
              "    80% {\n",
              "      border-color: transparent;\n",
              "      border-right-color: var(--fill-color);\n",
              "      border-bottom-color: var(--fill-color);\n",
              "    }\n",
              "    90% {\n",
              "      border-color: transparent;\n",
              "      border-bottom-color: var(--fill-color);\n",
              "    }\n",
              "  }\n",
              "</style>\n",
              "\n",
              "  <script>\n",
              "    async function quickchart(key) {\n",
              "      const quickchartButtonEl =\n",
              "        document.querySelector('#' + key + ' button');\n",
              "      quickchartButtonEl.disabled = true;  // To prevent multiple clicks.\n",
              "      quickchartButtonEl.classList.add('colab-df-spinner');\n",
              "      try {\n",
              "        const charts = await google.colab.kernel.invokeFunction(\n",
              "            'suggestCharts', [key], {});\n",
              "      } catch (error) {\n",
              "        console.error('Error during call to suggestCharts:', error);\n",
              "      }\n",
              "      quickchartButtonEl.classList.remove('colab-df-spinner');\n",
              "      quickchartButtonEl.classList.add('colab-df-quickchart-complete');\n",
              "    }\n",
              "    (() => {\n",
              "      let quickchartButtonEl =\n",
              "        document.querySelector('#df-b1c22dbf-dc92-49a6-9506-7162f2b9c403 button');\n",
              "      quickchartButtonEl.style.display =\n",
              "        google.colab.kernel.accessAllowed ? 'block' : 'none';\n",
              "    })();\n",
              "  </script>\n",
              "</div>\n",
              "\n",
              "    </div>\n",
              "  </div>\n"
            ],
            "application/vnd.google.colaboratory.intrinsic+json": {
              "type": "dataframe",
              "variable_name": "df"
            }
          },
          "metadata": {},
          "execution_count": 19
        }
      ]
    },
    {
      "cell_type": "code",
      "source": [
        "#Check the data types in the dataframe\n",
        "df.dtypes"
      ],
      "metadata": {
        "colab": {
          "base_uri": "https://localhost:8080/",
          "height": 899
        },
        "id": "GG-OfBj5ZZDn",
        "outputId": "955d9d50-6752-4360-e41e-dde6509da083"
      },
      "execution_count": 20,
      "outputs": [
        {
          "output_type": "execute_result",
          "data": {
            "text/plain": [
              "FactFatalityID                          int64\n",
              "Crash ID                                int64\n",
              "Road User                              object\n",
              "Gender                                 object\n",
              "Age                                     int64\n",
              "Age Group                              object\n",
              "Time of day                            object\n",
              "State_crash                            object\n",
              "Month_crash                             int64\n",
              "Year_crash                              int64\n",
              "Dayweek_crash                          object\n",
              "Time_crash                             object\n",
              "Crash Type_crash                       object\n",
              "Number Fatalities                       int64\n",
              "Bus Involvement_crash                  object\n",
              "Heavy Rigid Truck Involvement_crash    object\n",
              "Articulated Truck Involvement_crash    object\n",
              "Speed Limit_crash                       int64\n",
              "National Remoteness Areas_crash        object\n",
              "SA4 Name 2021_crash                    object\n",
              "National LGA Name 2021_crash           object\n",
              "National Road Type_crash               object\n",
              "Christmas Period_crash                 object\n",
              "Easter Period_crash                    object\n",
              "Day of week_crash                      object\n",
              "Time of Day                            object\n",
              "dtype: object"
            ],
            "text/html": [
              "<div>\n",
              "<style scoped>\n",
              "    .dataframe tbody tr th:only-of-type {\n",
              "        vertical-align: middle;\n",
              "    }\n",
              "\n",
              "    .dataframe tbody tr th {\n",
              "        vertical-align: top;\n",
              "    }\n",
              "\n",
              "    .dataframe thead th {\n",
              "        text-align: right;\n",
              "    }\n",
              "</style>\n",
              "<table border=\"1\" class=\"dataframe\">\n",
              "  <thead>\n",
              "    <tr style=\"text-align: right;\">\n",
              "      <th></th>\n",
              "      <th>0</th>\n",
              "    </tr>\n",
              "  </thead>\n",
              "  <tbody>\n",
              "    <tr>\n",
              "      <th>FactFatalityID</th>\n",
              "      <td>int64</td>\n",
              "    </tr>\n",
              "    <tr>\n",
              "      <th>Crash ID</th>\n",
              "      <td>int64</td>\n",
              "    </tr>\n",
              "    <tr>\n",
              "      <th>Road User</th>\n",
              "      <td>object</td>\n",
              "    </tr>\n",
              "    <tr>\n",
              "      <th>Gender</th>\n",
              "      <td>object</td>\n",
              "    </tr>\n",
              "    <tr>\n",
              "      <th>Age</th>\n",
              "      <td>int64</td>\n",
              "    </tr>\n",
              "    <tr>\n",
              "      <th>Age Group</th>\n",
              "      <td>object</td>\n",
              "    </tr>\n",
              "    <tr>\n",
              "      <th>Time of day</th>\n",
              "      <td>object</td>\n",
              "    </tr>\n",
              "    <tr>\n",
              "      <th>State_crash</th>\n",
              "      <td>object</td>\n",
              "    </tr>\n",
              "    <tr>\n",
              "      <th>Month_crash</th>\n",
              "      <td>int64</td>\n",
              "    </tr>\n",
              "    <tr>\n",
              "      <th>Year_crash</th>\n",
              "      <td>int64</td>\n",
              "    </tr>\n",
              "    <tr>\n",
              "      <th>Dayweek_crash</th>\n",
              "      <td>object</td>\n",
              "    </tr>\n",
              "    <tr>\n",
              "      <th>Time_crash</th>\n",
              "      <td>object</td>\n",
              "    </tr>\n",
              "    <tr>\n",
              "      <th>Crash Type_crash</th>\n",
              "      <td>object</td>\n",
              "    </tr>\n",
              "    <tr>\n",
              "      <th>Number Fatalities</th>\n",
              "      <td>int64</td>\n",
              "    </tr>\n",
              "    <tr>\n",
              "      <th>Bus Involvement_crash</th>\n",
              "      <td>object</td>\n",
              "    </tr>\n",
              "    <tr>\n",
              "      <th>Heavy Rigid Truck Involvement_crash</th>\n",
              "      <td>object</td>\n",
              "    </tr>\n",
              "    <tr>\n",
              "      <th>Articulated Truck Involvement_crash</th>\n",
              "      <td>object</td>\n",
              "    </tr>\n",
              "    <tr>\n",
              "      <th>Speed Limit_crash</th>\n",
              "      <td>int64</td>\n",
              "    </tr>\n",
              "    <tr>\n",
              "      <th>National Remoteness Areas_crash</th>\n",
              "      <td>object</td>\n",
              "    </tr>\n",
              "    <tr>\n",
              "      <th>SA4 Name 2021_crash</th>\n",
              "      <td>object</td>\n",
              "    </tr>\n",
              "    <tr>\n",
              "      <th>National LGA Name 2021_crash</th>\n",
              "      <td>object</td>\n",
              "    </tr>\n",
              "    <tr>\n",
              "      <th>National Road Type_crash</th>\n",
              "      <td>object</td>\n",
              "    </tr>\n",
              "    <tr>\n",
              "      <th>Christmas Period_crash</th>\n",
              "      <td>object</td>\n",
              "    </tr>\n",
              "    <tr>\n",
              "      <th>Easter Period_crash</th>\n",
              "      <td>object</td>\n",
              "    </tr>\n",
              "    <tr>\n",
              "      <th>Day of week_crash</th>\n",
              "      <td>object</td>\n",
              "    </tr>\n",
              "    <tr>\n",
              "      <th>Time of Day</th>\n",
              "      <td>object</td>\n",
              "    </tr>\n",
              "  </tbody>\n",
              "</table>\n",
              "</div><br><label><b>dtype:</b> object</label>"
            ]
          },
          "metadata": {},
          "execution_count": 20
        }
      ]
    },
    {
      "cell_type": "code",
      "source": [
        "#The columns of the dataframe\n",
        "df.columns"
      ],
      "metadata": {
        "colab": {
          "base_uri": "https://localhost:8080/",
          "height": 0
        },
        "id": "EcG_WYBkZc_c",
        "outputId": "2d9b6200-69f3-411f-82f2-a02a9bd63243"
      },
      "execution_count": 21,
      "outputs": [
        {
          "output_type": "execute_result",
          "data": {
            "text/plain": [
              "Index(['FactFatalityID', 'Crash ID', 'Road User', 'Gender', 'Age', 'Age Group',\n",
              "       'Time of day', 'State_crash', 'Month_crash', 'Year_crash',\n",
              "       'Dayweek_crash', 'Time_crash', 'Crash Type_crash', 'Number Fatalities',\n",
              "       'Bus Involvement_crash', 'Heavy Rigid Truck Involvement_crash',\n",
              "       'Articulated Truck Involvement_crash', 'Speed Limit_crash',\n",
              "       'National Remoteness Areas_crash', 'SA4 Name 2021_crash',\n",
              "       'National LGA Name 2021_crash', 'National Road Type_crash',\n",
              "       'Christmas Period_crash', 'Easter Period_crash', 'Day of week_crash',\n",
              "       'Time of Day'],\n",
              "      dtype='object')"
            ]
          },
          "metadata": {},
          "execution_count": 21
        }
      ]
    },
    {
      "cell_type": "code",
      "source": [
        "#Check the number of rows and columns\n",
        "df.shape"
      ],
      "metadata": {
        "colab": {
          "base_uri": "https://localhost:8080/",
          "height": 0
        },
        "id": "lOiAHg5mZgVf",
        "outputId": "11b31282-376e-4cbe-9571-31be7d1eba5c"
      },
      "execution_count": 45,
      "outputs": [
        {
          "output_type": "execute_result",
          "data": {
            "text/plain": [
              "(56874, 27)"
            ]
          },
          "metadata": {},
          "execution_count": 45
        }
      ]
    },
    {
      "cell_type": "markdown",
      "source": [],
      "metadata": {
        "id": "TVy6tBjf2FG6"
      }
    },
    {
      "cell_type": "code",
      "source": [
        "# Check for missing values\n",
        "\n",
        "print(\"\\nChecking for 'Missing' string values:\")\n",
        "missing_str_counts = {}\n",
        "for col in df.columns:\n",
        "    missing_str_count = (df[col] == \"Missing\").sum()\n",
        "    if missing_str_count > 0:\n",
        "        missing_str_counts[col] = missing_str_count\n",
        "\n",
        "for col, count in sorted(missing_str_counts.items(), key=lambda x: x[1], reverse=True):\n",
        "    print(f\"{col}: {count} ({count/len(df)*100:.2f}%)\")\n",
        "\n"
      ],
      "metadata": {
        "colab": {
          "base_uri": "https://localhost:8080/",
          "height": 0
        },
        "id": "UGCeQddCZjn7",
        "outputId": "1a3f34f3-91f2-4a3c-fbb8-ee4d5aeacdf6"
      },
      "execution_count": 62,
      "outputs": [
        {
          "output_type": "stream",
          "name": "stdout",
          "text": [
            "\n",
            "Checking for 'Missing' string values:\n",
            "SA4 Name 2021_crash: 45851 (80.62%)\n",
            "National LGA Name 2021_crash: 45849 (80.62%)\n",
            "National Road Type_crash: 45846 (80.61%)\n",
            "National Remoteness Areas_crash: 45520 (80.04%)\n",
            "Heavy Rigid Truck Involvement_crash: 20557 (36.14%)\n",
            "Speed Category: 1493 (2.63%)\n",
            "Age Group: 117 (0.21%)\n",
            "Bus Involvement_crash: 68 (0.12%)\n",
            "Articulated Truck Involvement_crash: 62 (0.11%)\n",
            "Time of day: 44 (0.08%)\n",
            "Time of Day: 44 (0.08%)\n",
            "Time_crash: 43 (0.08%)\n",
            "Gender: 34 (0.06%)\n",
            "Day of week_crash: 13 (0.02%)\n",
            "Road User: 11 (0.02%)\n"
          ]
        }
      ]
    },
    {
      "cell_type": "markdown",
      "source": [
        "##  Preprocess Key Features\n",
        "\n",
        "We:\n",
        "- Create a `Speed Category` column to categorize numeric speed into \"Low\", \"Medium\", or \"High\".\n",
        "- Drop or encode missing values.\n",
        "- Focus on 5 variables: Age Group, State, Time of Day, Speed Category, and Road User.\n"
      ],
      "metadata": {
        "id": "Z2CCRRN3eCyx"
      }
    },
    {
      "cell_type": "code",
      "source": [
        "# Create speed limit categories\n",
        "def categorize_speed(speed):\n",
        "    \"\"\"Categorize speed limits into meaningful groups\"\"\"\n",
        "    if pd.isna(speed) or speed == 0 or speed == \"Missing\":\n",
        "        return None\n",
        "\n",
        "    if speed <= 50:\n",
        "        return \"Low (≤50 km/h)\"\n",
        "    elif speed <= 80:\n",
        "        return \"Medium (51-80 km/h)\"\n",
        "    else:\n",
        "        return \"High (>80 km/h)\""
      ],
      "metadata": {
        "id": "qxDw1sA0gkvV"
      },
      "execution_count": 90,
      "outputs": []
    },
    {
      "cell_type": "code",
      "source": [
        "# Apply speed categorization\n",
        "df['Speed Category'] = df['Speed Limit_crash'].apply(categorize_speed)\n"
      ],
      "metadata": {
        "id": "Tk7xlVENIs-x"
      },
      "execution_count": 91,
      "outputs": []
    },
    {
      "cell_type": "code",
      "source": [
        "# Step 5: Explore the distribution of key variables\n",
        "print(df['Road User'].value_counts())\n"
      ],
      "metadata": {
        "colab": {
          "base_uri": "https://localhost:8080/",
          "height": 0
        },
        "id": "chUZI-BfIttC",
        "outputId": "efa13e3c-08ec-4b50-ecf1-3fe425867962"
      },
      "execution_count": 93,
      "outputs": [
        {
          "output_type": "stream",
          "name": "stdout",
          "text": [
            "Road User\n",
            "Driver                          25681\n",
            "Passenger                       12918\n",
            "Pedestrian                       8757\n",
            "Motorcycle rider                 7456\n",
            "Pedal cyclist                    1546\n",
            "Motorcycle pillion passenger      384\n",
            "Other/-9                          121\n",
            "Missing                            11\n",
            "Name: count, dtype: int64\n"
          ]
        }
      ]
    },
    {
      "cell_type": "code",
      "source": [
        "print(df['State_crash'].value_counts())\n"
      ],
      "metadata": {
        "colab": {
          "base_uri": "https://localhost:8080/",
          "height": 0
        },
        "id": "IsbI2C7hASvl",
        "outputId": "31909173-ba11-4814-a88f-b218f69b8c82"
      },
      "execution_count": 94,
      "outputs": [
        {
          "output_type": "stream",
          "name": "stdout",
          "text": [
            "State_crash\n",
            "NSW    17326\n",
            "Vic    12436\n",
            "Qld    11440\n",
            "WA      6842\n",
            "SA      4853\n",
            "NT      1787\n",
            "Tas     1677\n",
            "ACT      513\n",
            "Name: count, dtype: int64\n"
          ]
        }
      ]
    },
    {
      "cell_type": "code",
      "source": [
        "print(df['Age Group'].value_counts())"
      ],
      "metadata": {
        "colab": {
          "base_uri": "https://localhost:8080/",
          "height": 0
        },
        "id": "KftPiEl0AVud",
        "outputId": "9ea63147-974d-4558-ad9e-dbc119b888af"
      },
      "execution_count": 99,
      "outputs": [
        {
          "output_type": "stream",
          "name": "stdout",
          "text": [
            "Age Group\n",
            "40_to_64       14642\n",
            "17_to_25       14542\n",
            "26_to_39       13239\n",
            "75_or_older     5612\n",
            "65_to_74        4443\n",
            "0_to_16         4279\n",
            "Missing          117\n",
            "Name: count, dtype: int64\n"
          ]
        }
      ]
    },
    {
      "cell_type": "code",
      "source": [
        "print(df['Speed Category'].value_counts())\n"
      ],
      "metadata": {
        "colab": {
          "base_uri": "https://localhost:8080/",
          "height": 0
        },
        "id": "-pY0yOceAand",
        "outputId": "3239f74d-c09b-4156-8375-999f0ad15d44"
      },
      "execution_count": 96,
      "outputs": [
        {
          "output_type": "stream",
          "name": "stdout",
          "text": [
            "Speed Category\n",
            "High (>80 km/h)        27328\n",
            "Medium (51-80 km/h)    24217\n",
            "Low (≤50 km/h)          3836\n",
            "Name: count, dtype: int64\n"
          ]
        }
      ]
    },
    {
      "cell_type": "code",
      "source": [
        "\n",
        "print(df['Time of Day'].value_counts())\n"
      ],
      "metadata": {
        "colab": {
          "base_uri": "https://localhost:8080/",
          "height": 0
        },
        "id": "r6AdDVv_AmGn",
        "outputId": "6544d6dd-3459-488b-a4f8-6ff29ae7cca9"
      },
      "execution_count": 98,
      "outputs": [
        {
          "output_type": "stream",
          "name": "stdout",
          "text": [
            "Time of Day\n",
            "Day        32393\n",
            "Night      24437\n",
            "Missing       44\n",
            "Name: count, dtype: int64\n"
          ]
        }
      ]
    },
    {
      "cell_type": "code",
      "source": [
        "# Select focused columns for analysis - removed less important columns\n",
        "focus_columns = [\n",
        "    'Road User',\n",
        "    'Age Group',\n",
        "    'State_crash',\n",
        "    'Speed Category',\n",
        "    'Time of Day'\n",
        "]"
      ],
      "metadata": {
        "id": "_LyZtafBCSBf"
      },
      "execution_count": 100,
      "outputs": []
    },
    {
      "cell_type": "markdown",
      "source": [
        "## Transaction Encoding and Rule Mining\n",
        "\n",
        "We:\n",
        "- Encode selected feature values into item-style transactions.\n",
        "- Use Apriori with minimum support = 1% to find frequent patterns.\n",
        "- Generate association rules with minimum confidence = 10%.\n"
      ],
      "metadata": {
        "id": "CO6SnOLGeK2J"
      }
    },
    {
      "cell_type": "code",
      "source": [
        "# Create transactions for rule mining\n",
        "transactions = []\n",
        "for _, row in df.iterrows():\n",
        "    transaction = []\n",
        "\n",
        "    for col in focus_columns:\n",
        "        if col in df.columns:\n",
        "            value = row[col]\n",
        "            if pd.notna(value) and value != \"Missing\":\n",
        "                # Encode the item as \"attribute=value\"\n",
        "                transaction.append(f\"{col}={value}\")\n",
        "\n",
        "    # Only include transactions with at least 3 items\n",
        "    if len(transaction) >= 3:\n",
        "        transactions.append(transaction)\n",
        "\n",
        "print(len(transactions))\n",
        "print(transactions[0])"
      ],
      "metadata": {
        "colab": {
          "base_uri": "https://localhost:8080/",
          "height": 0
        },
        "id": "MCwIpCb3IxKd",
        "outputId": "dc0e448b-d5a2-4da8-c1ee-b8ac0d20ddbe"
      },
      "execution_count": 101,
      "outputs": [
        {
          "output_type": "stream",
          "name": "stdout",
          "text": [
            "56873\n",
            "['Road User=Driver', 'Age Group=65_to_74', 'State_crash=NSW', 'Speed Category=High (>80 km/h)', 'Time of Day=Night']\n"
          ]
        }
      ]
    },
    {
      "cell_type": "code",
      "source": [
        "# Apply Apriori algorithm to find frequent itemsets\n",
        "min_support = 0.01  # 1% support threshold\n",
        "frequent_itemsets = apriori(df_encoded, min_support=min_support, use_colnames=True)\n",
        "print(len(frequent_itemsets))\n"
      ],
      "metadata": {
        "colab": {
          "base_uri": "https://localhost:8080/",
          "height": 0
        },
        "id": "80YDU6gMI3Tr",
        "outputId": "94e93c58-5264-4166-c0ab-b820a66f8514"
      },
      "execution_count": 103,
      "outputs": [
        {
          "output_type": "stream",
          "name": "stdout",
          "text": [
            "581\n"
          ]
        }
      ]
    },
    {
      "cell_type": "code",
      "source": [
        "# Generate association rules\n",
        "min_confidence = 0.1  # 10% confidence threshold\n",
        "rules = association_rules(frequent_itemsets, metric=\"confidence\", min_threshold=min_confidence)\n",
        "print(len(rules))\n"
      ],
      "metadata": {
        "colab": {
          "base_uri": "https://localhost:8080/",
          "height": 0
        },
        "id": "QxFxhrhHI7k2",
        "outputId": "55e228cf-c736-44df-c9d5-5be62bbad44b"
      },
      "execution_count": 104,
      "outputs": [
        {
          "output_type": "stream",
          "name": "stdout",
          "text": [
            "2608\n"
          ]
        }
      ]
    },
    {
      "cell_type": "markdown",
      "source": [
        "##  Filter and Focus on Road User Rules\n",
        "\n",
        "We filter rules to keep only those where the outcome is the road user type (e.g., Driver, Pedestrian). These rules reveal how certain conditions lead to a higher likelihood of specific user types in fatal crashes.\n"
      ],
      "metadata": {
        "id": "_nc2-oTneQ6W"
      }
    },
    {
      "cell_type": "code",
      "source": [
        "# Filter rules to have \"Road User\" as consequent\n",
        "road_user_rules = rules[rules['consequents'].apply(lambda x: any(item.startswith('Road User=') for item in x))]\n",
        "print(len(road_user_rules))\n"
      ],
      "metadata": {
        "colab": {
          "base_uri": "https://localhost:8080/",
          "height": 0
        },
        "id": "Ig6kCSv1I-9K",
        "outputId": "3edf203b-9eed-459f-c088-30bfadf0e616"
      },
      "execution_count": 105,
      "outputs": [
        {
          "output_type": "stream",
          "name": "stdout",
          "text": [
            "722\n"
          ]
        }
      ]
    },
    {
      "cell_type": "code",
      "source": [
        "# Ensure each rule has exactly one Road User item in the consequent\n",
        "filtered_rules = []\n",
        "for _, rule in road_user_rules.iterrows():\n",
        "    antecedents = set(rule['antecedents'])\n",
        "    consequents = set(rule['consequents'])\n",
        "\n",
        "    # Extract only Road User items from consequents\n",
        "    road_user_consequents = {item for item in consequents if item.startswith('Road User=')}\n",
        "\n",
        "    if len(road_user_consequents) == 1:\n",
        "        # Create a new rule with just the Road User consequent\n",
        "        new_rule = rule.copy()\n",
        "        new_rule['consequents'] = frozenset(road_user_consequents)\n",
        "        filtered_rules.append(new_rule)\n",
        "\n",
        "filtered_rules_df = pd.DataFrame(filtered_rules)\n",
        "print(len(filtered_rules_df))\n"
      ],
      "metadata": {
        "colab": {
          "base_uri": "https://localhost:8080/",
          "height": 0
        },
        "id": "0gKvVnIbJDIL",
        "outputId": "d9c237d5-2109-4619-bafd-a45dde060f13"
      },
      "execution_count": 106,
      "outputs": [
        {
          "output_type": "stream",
          "name": "stdout",
          "text": [
            "722\n"
          ]
        }
      ]
    },
    {
      "cell_type": "code",
      "source": [
        "#  Sort and analyze rules\n",
        "# Sort by lift (primary) and confidence (secondary)\n",
        "filtered_rules_df = filtered_rules_df.sort_values(['lift', 'confidence'], ascending=[False, False])\n",
        "\n",
        "# Define function to format rules\n",
        "def format_rule(row):\n",
        "    antecedents_str = ', '.join(list(row['antecedents']))\n",
        "    consequents_str = ', '.join(list(row['consequents']))\n",
        "    return f\"{antecedents_str} => {consequents_str} (Support: {row['support']:.4f}, Confidence: {row['confidence']:.4f}, Lift: {row['lift']:.4f})\"\n",
        "\n",
        "# Display top rules\n",
        "for i, rule in enumerate(filtered_rules_df.head(10).apply(format_rule, axis=1)):\n",
        "    print(f\"Rule {i+1}: {rule}\")\n"
      ],
      "metadata": {
        "colab": {
          "base_uri": "https://localhost:8080/",
          "height": 0
        },
        "id": "O-RwBfYWJHws",
        "outputId": "d0f17d8a-7438-4e96-dae2-876e7cef6631"
      },
      "execution_count": 109,
      "outputs": [
        {
          "output_type": "stream",
          "name": "stdout",
          "text": [
            "Rule 1: Age Group=75_or_older, Speed Category=Medium (51-80 km/h) => Road User=Pedestrian (Support: 0.0175, Confidence: 0.3290, Lift: 4.3907)\n",
            "Rule 2: Speed Category=High (>80 km/h), Age Group=0_to_16 => Road User=Passenger (Support: 0.0172, Confidence: 0.5109, Lift: 4.0247)\n",
            "Rule 3: Time of Day=Day, Speed Category=High (>80 km/h), Age Group=0_to_16 => Road User=Passenger (Support: 0.0172, Confidence: 0.7811, Lift: 3.4387)\n",
            "Rule 4: Speed Category=High (>80 km/h), Age Group=0_to_16 => Road User=Passenger (Support: 0.0263, Confidence: 0.7781, Lift: 3.4258)\n",
            "Rule 5: Age Group=75_or_older => Road User=Pedestrian (Support: 0.0175, Confidence: 0.1773, Lift: 3.3986)\n",
            "Rule 6: Age Group=75_or_older => Road User=Pedestrian (Support: 0.0244, Confidence: 0.2470, Lift: 3.2956)\n",
            "Rule 7: Speed Category=Low (≤50 km/h) => Road User=Pedestrian (Support: 0.0103, Confidence: 0.1533, Lift: 2.8953)\n",
            "Rule 8: Age Group=26_to_39, Time of Day=Day, Speed Category=Medium (51-80 km/h) => Road User=Motorcycle rider (Support: 0.0155, Confidence: 0.3759, Lift: 2.8669)\n",
            "Rule 9: Speed Category=Low (≤50 km/h) => Road User=Pedestrian (Support: 0.0145, Confidence: 0.2145, Lift: 2.8630)\n",
            "Rule 10: Age Group=75_or_older, Speed Category=Medium (51-80 km/h) => Road User=Pedestrian (Support: 0.0232, Confidence: 0.4362, Lift: 2.8328)\n"
          ]
        }
      ]
    },
    {
      "cell_type": "markdown",
      "source": [
        "##  Analyze Rules by Age, Speed, Time, and State\n",
        "\n",
        "We break down and rank rules by:\n",
        "- Age group (e.g., 0–16, 75+)\n",
        "- Speed zone\n",
        "- Time of day (Day vs Night)\n",
        "- State (e.g., NSW, VIC, WA)\n",
        "\n",
        "Lift and confidence values help prioritize high-impact patterns.\n"
      ],
      "metadata": {
        "id": "WfQBNpPVeX--"
      }
    },
    {
      "cell_type": "code",
      "source": [
        "#  Age Group analysis\n",
        "def extract_feature(items, prefix):\n",
        "    \"\"\"Extract a specific feature from a set of items based on prefix\"\"\"\n",
        "    for item in items:\n",
        "        if item.startswith(prefix):\n",
        "            return item.split('=')[1]\n",
        "    return None\n",
        "\n",
        "# Age Group Analysis\n",
        "filtered_rules_df['age_group'] = filtered_rules_df['antecedents'].apply(\n",
        "    lambda x: extract_feature(x, 'Age Group='))\n",
        "filtered_rules_df['road_user'] = filtered_rules_df['consequents'].apply(\n",
        "    lambda x: extract_feature(x, 'Road User='))\n",
        "\n",
        "age_rules = filtered_rules_df[filtered_rules_df['age_group'].notna()]\n",
        "print(len(age_rules))\n"
      ],
      "metadata": {
        "colab": {
          "base_uri": "https://localhost:8080/",
          "height": 0
        },
        "id": "SVSUynJQJKoS",
        "outputId": "80674784-dfad-4c66-c35f-baf467a3adb2"
      },
      "execution_count": 110,
      "outputs": [
        {
          "output_type": "stream",
          "name": "stdout",
          "text": [
            "382\n"
          ]
        }
      ]
    },
    {
      "cell_type": "code",
      "source": [
        "# Display top rules for each age group\n",
        "for age in sorted(age_rules['age_group'].unique()):\n",
        "    age_specific = age_rules[age_rules['age_group'] == age].sort_values('lift', ascending=False)\n",
        "    print(f\"\\n{age}:\")\n",
        "    for i, rule in enumerate(age_specific.head(2).apply(format_rule, axis=1)):\n",
        "        print(f\"  Rule {i+1}: {rule}\")\n"
      ],
      "metadata": {
        "colab": {
          "base_uri": "https://localhost:8080/",
          "height": 0
        },
        "id": "Ajp9naR-JNik",
        "outputId": "27ca6a7f-f930-4e79-9aeb-7ecf0aa15333"
      },
      "execution_count": 111,
      "outputs": [
        {
          "output_type": "stream",
          "name": "stdout",
          "text": [
            "\n",
            "0_to_16:\n",
            "  Rule 1: Speed Category=High (>80 km/h), Age Group=0_to_16 => Road User=Passenger (Support: 0.0172, Confidence: 0.5109, Lift: 4.0247)\n",
            "  Rule 2: Time of Day=Day, Speed Category=High (>80 km/h), Age Group=0_to_16 => Road User=Passenger (Support: 0.0172, Confidence: 0.7811, Lift: 3.4387)\n",
            "\n",
            "17_to_25:\n",
            "  Rule 1: Time of Day=Day, Age Group=17_to_25, Speed Category=Medium (51-80 km/h) => Road User=Motorcycle rider (Support: 0.0117, Confidence: 0.3016, Lift: 2.3004)\n",
            "  Rule 2: Age Group=17_to_25, Speed Category=Medium (51-80 km/h) => Road User=Passenger (Support: 0.0216, Confidence: 0.1886, Lift: 1.8843)\n",
            "\n",
            "26_to_39:\n",
            "  Rule 1: Age Group=26_to_39, Time of Day=Day, Speed Category=Medium (51-80 km/h) => Road User=Motorcycle rider (Support: 0.0155, Confidence: 0.3759, Lift: 2.8669)\n",
            "  Rule 2: Age Group=26_to_39, Speed Category=Medium (51-80 km/h) => Road User=Motorcycle rider (Support: 0.0108, Confidence: 0.1139, Lift: 2.5221)\n",
            "\n",
            "40_to_64:\n",
            "  Rule 1: Age Group=40_to_64, Speed Category=Medium (51-80 km/h), Time of Day=Night => Road User=Pedestrian (Support: 0.0135, Confidence: 0.3406, Lift: 2.2118)\n",
            "  Rule 2: Age Group=40_to_64, Speed Category=Medium (51-80 km/h) => Road User=Pedestrian (Support: 0.0135, Confidence: 0.1413, Lift: 1.7894)\n",
            "\n",
            "65_to_74:\n",
            "  Rule 1: Age Group=65_to_74, Speed Category=Medium (51-80 km/h) => Road User=Pedestrian (Support: 0.0138, Confidence: 0.4041, Lift: 2.6246)\n",
            "  Rule 2: Age Group=65_to_74 => Road User=Pedestrian (Support: 0.0118, Confidence: 0.1506, Lift: 2.0093)\n",
            "\n",
            "75_or_older:\n",
            "  Rule 1: Age Group=75_or_older, Speed Category=Medium (51-80 km/h) => Road User=Pedestrian (Support: 0.0175, Confidence: 0.3290, Lift: 4.3907)\n",
            "  Rule 2: Age Group=75_or_older => Road User=Pedestrian (Support: 0.0175, Confidence: 0.1773, Lift: 3.3986)\n"
          ]
        }
      ]
    },
    {
      "cell_type": "code",
      "source": [
        "# Speed Category analysis\n",
        "filtered_rules_df['speed_category'] = filtered_rules_df['antecedents'].apply(\n",
        "    lambda x: extract_feature(x, 'Speed Category='))\n",
        "\n",
        "speed_rules = filtered_rules_df[filtered_rules_df['speed_category'].notna()]\n",
        "print(len(speed_rules))\n",
        "\n",
        "# Display top rules for each speed category\n",
        "for speed in sorted(speed_rules['speed_category'].unique()):\n",
        "    speed_specific = speed_rules[speed_rules['speed_category'] == speed].sort_values('lift', ascending=False)\n",
        "    print(f\"\\n{speed}:\")\n",
        "    for i, rule in enumerate(speed_specific.head(2).apply(format_rule, axis=1)):\n",
        "        print(f\"  Rule {i+1}: {rule}\")\n"
      ],
      "metadata": {
        "colab": {
          "base_uri": "https://localhost:8080/",
          "height": 0
        },
        "id": "pZiKp7uOT7xN",
        "outputId": "23fb929c-73c2-4a6d-ffa1-b79afd5fe085"
      },
      "execution_count": 114,
      "outputs": [
        {
          "output_type": "stream",
          "name": "stdout",
          "text": [
            "298\n",
            "\n",
            "High (>80 km/h):\n",
            "  Rule 1: Speed Category=High (>80 km/h), Age Group=0_to_16 => Road User=Passenger (Support: 0.0172, Confidence: 0.5109, Lift: 4.0247)\n",
            "  Rule 2: Time of Day=Day, Speed Category=High (>80 km/h), Age Group=0_to_16 => Road User=Passenger (Support: 0.0172, Confidence: 0.7811, Lift: 3.4387)\n",
            "\n",
            "Low (≤50 km/h):\n",
            "  Rule 1: Speed Category=Low (≤50 km/h) => Road User=Pedestrian (Support: 0.0103, Confidence: 0.1533, Lift: 2.8953)\n",
            "  Rule 2: Speed Category=Low (≤50 km/h) => Road User=Pedestrian (Support: 0.0145, Confidence: 0.2145, Lift: 2.8630)\n",
            "\n",
            "Medium (51-80 km/h):\n",
            "  Rule 1: Age Group=75_or_older, Speed Category=Medium (51-80 km/h) => Road User=Pedestrian (Support: 0.0175, Confidence: 0.3290, Lift: 4.3907)\n",
            "  Rule 2: Age Group=26_to_39, Time of Day=Day, Speed Category=Medium (51-80 km/h) => Road User=Motorcycle rider (Support: 0.0155, Confidence: 0.3759, Lift: 2.8669)\n"
          ]
        }
      ]
    },
    {
      "cell_type": "code",
      "source": [
        "# 12.3: Time of Day analysis\n",
        "filtered_rules_df['time_of_day'] = filtered_rules_df['antecedents'].apply(\n",
        "    lambda x: extract_feature(x, 'Time of Day='))\n",
        "\n",
        "time_rules = filtered_rules_df[filtered_rules_df['time_of_day'].notna()]\n",
        "print(len(time_rules))\n",
        "\n",
        "# Display top rules for each time of day\n",
        "for time in sorted(time_rules['time_of_day'].unique()):\n",
        "    time_specific = time_rules[time_rules['time_of_day'] == time].sort_values('lift', ascending=False)\n",
        "    print(f\"\\n{time}:\")\n",
        "    for i, rule in enumerate(time_specific.head(2).apply(format_rule, axis=1)):\n",
        "        print(f\"  Rule {i+1}: {rule}\")"
      ],
      "metadata": {
        "colab": {
          "base_uri": "https://localhost:8080/",
          "height": 0
        },
        "id": "-FDD8znNFCdW",
        "outputId": "ca38ec8d-2f27-47e3-8222-cfe302053e97"
      },
      "execution_count": 115,
      "outputs": [
        {
          "output_type": "stream",
          "name": "stdout",
          "text": [
            "302\n",
            "\n",
            "Day:\n",
            "  Rule 1: Time of Day=Day, Speed Category=High (>80 km/h), Age Group=0_to_16 => Road User=Passenger (Support: 0.0172, Confidence: 0.7811, Lift: 3.4387)\n",
            "  Rule 2: Age Group=26_to_39, Time of Day=Day, Speed Category=Medium (51-80 km/h) => Road User=Motorcycle rider (Support: 0.0155, Confidence: 0.3759, Lift: 2.8669)\n",
            "\n",
            "Night:\n",
            "  Rule 1: Age Group=0_to_16, Time of Day=Night => Road User=Passenger (Support: 0.0174, Confidence: 0.6242, Lift: 2.7482)\n",
            "  Rule 2: Age Group=40_to_64, Speed Category=Medium (51-80 km/h), Time of Day=Night => Road User=Pedestrian (Support: 0.0135, Confidence: 0.3406, Lift: 2.2118)\n"
          ]
        }
      ]
    },
    {
      "cell_type": "code",
      "source": [
        "# 12.4: State analysis\n",
        "filtered_rules_df['state'] = filtered_rules_df['antecedents'].apply(\n",
        "    lambda x: extract_feature(x, 'State_crash='))\n",
        "\n",
        "state_rules = filtered_rules_df[filtered_rules_df['state'].notna()]\n",
        "print(len(state_rules))\n",
        "\n",
        "# Display top rules for major states\n",
        "major_states = ['NSW', 'Vic', 'Qld', 'WA']\n",
        "for state in major_states:\n",
        "    state_specific = state_rules[state_rules['state'] == state].sort_values('lift', ascending=False)\n",
        "    print(f\"\\n{state}:\")\n",
        "    for i, rule in enumerate(state_specific.head(2).apply(format_rule, axis=1)):\n",
        "        print(f\"  Rule {i+1}: {rule}\")"
      ],
      "metadata": {
        "colab": {
          "base_uri": "https://localhost:8080/",
          "height": 0
        },
        "id": "jzw1dMJh5VfQ",
        "outputId": "5493eaef-dd55-4312-d27a-88cd21bc0039"
      },
      "execution_count": 113,
      "outputs": [
        {
          "output_type": "stream",
          "name": "stdout",
          "text": [
            "369\n",
            "\n",
            "NSW:\n",
            "  Rule 1: State_crash=NSW, Age Group=0_to_16 => Road User=Passenger (Support: 0.0125, Confidence: 0.5666, Lift: 2.4947)\n",
            "  Rule 2: State_crash=NSW, Speed Category=Low (≤50 km/h) => Road User=Pedestrian (Support: 0.0103, Confidence: 0.3661, Lift: 2.3778)\n",
            "\n",
            "Vic:\n",
            "  Rule 1: Speed Category=Medium (51-80 km/h), State_crash=Vic => Road User=Pedestrian (Support: 0.0137, Confidence: 0.1414, Lift: 1.8870)\n",
            "  Rule 2: Time of Day=Day, Speed Category=Medium (51-80 km/h), State_crash=Vic => Road User=Pedestrian (Support: 0.0137, Confidence: 0.2761, Lift: 1.7932)\n",
            "\n",
            "Qld:\n",
            "  Rule 1: Time of Day=Day, Speed Category=Medium (51-80 km/h), State_crash=Qld => Road User=Motorcycle rider (Support: 0.0121, Confidence: 0.2400, Lift: 1.8304)\n",
            "  Rule 2: Age Group=26_to_39, State_crash=Qld => Road User=Motorcycle rider (Support: 0.0116, Confidence: 0.2373, Lift: 1.8099)\n",
            "\n",
            "WA:\n",
            "  Rule 1: Speed Category=High (>80 km/h), State_crash=WA => Road User=Passenger (Support: 0.0116, Confidence: 0.1826, Lift: 1.4384)\n",
            "  Rule 2: Age Group=40_to_64, Speed Category=High (>80 km/h), State_crash=WA => Road User=Driver (Support: 0.0113, Confidence: 0.6237, Lift: 1.3812)\n"
          ]
        }
      ]
    },
    {
      "cell_type": "markdown",
      "source": [],
      "metadata": {
        "id": "f4qFtu02drE1"
      }
    }
  ]
}